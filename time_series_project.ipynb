{
 "cells": [
  {
   "cell_type": "code",
   "execution_count": 1,
   "metadata": {},
   "outputs": [],
   "source": [
    "import pandas as pd\n",
    "import numpy as np\n"
   ]
  },
  {
   "cell_type": "code",
   "execution_count": 6,
   "metadata": {},
   "outputs": [
    {
     "data": {
      "text/html": [
       "<div>\n",
       "<style scoped>\n",
       "    .dataframe tbody tr th:only-of-type {\n",
       "        vertical-align: middle;\n",
       "    }\n",
       "\n",
       "    .dataframe tbody tr th {\n",
       "        vertical-align: top;\n",
       "    }\n",
       "\n",
       "    .dataframe thead th {\n",
       "        text-align: right;\n",
       "    }\n",
       "</style>\n",
       "<table border=\"1\" class=\"dataframe\">\n",
       "  <thead>\n",
       "    <tr style=\"text-align: right;\">\n",
       "      <th></th>\n",
       "      <th>Date</th>\n",
       "      <th>Calories Burned</th>\n",
       "      <th>Steps</th>\n",
       "      <th>Distance</th>\n",
       "      <th>Floors</th>\n",
       "      <th>Minutes Sedentary</th>\n",
       "      <th>Minutes Lightly Active</th>\n",
       "      <th>Minutes Fairly Active</th>\n",
       "      <th>Minutes Very Active</th>\n",
       "      <th>Activity Calories</th>\n",
       "    </tr>\n",
       "  </thead>\n",
       "  <tbody>\n",
       "    <tr>\n",
       "      <th>29</th>\n",
       "      <td>2018-05-25</td>\n",
       "      <td>3,155</td>\n",
       "      <td>5,389</td>\n",
       "      <td>2.54</td>\n",
       "      <td>1</td>\n",
       "      <td>821</td>\n",
       "      <td>145</td>\n",
       "      <td>32</td>\n",
       "      <td>13</td>\n",
       "      <td>1,127</td>\n",
       "    </tr>\n",
       "    <tr>\n",
       "      <th>30</th>\n",
       "      <td>2018-05-26</td>\n",
       "      <td>3,121</td>\n",
       "      <td>4,092</td>\n",
       "      <td>1.93</td>\n",
       "      <td>2</td>\n",
       "      <td>1,258</td>\n",
       "      <td>172</td>\n",
       "      <td>7</td>\n",
       "      <td>3</td>\n",
       "      <td>999</td>\n",
       "    </tr>\n",
       "  </tbody>\n",
       "</table>\n",
       "</div>"
      ],
      "text/plain": [
       "          Date Calories Burned  Steps  Distance  Floors Minutes Sedentary  \\\n",
       "29  2018-05-25           3,155  5,389      2.54       1               821   \n",
       "30  2018-05-26           3,121  4,092      1.93       2             1,258   \n",
       "\n",
       "    Minutes Lightly Active  Minutes Fairly Active  Minutes Very Active  \\\n",
       "29                     145                     32                   13   \n",
       "30                     172                      7                    3   \n",
       "\n",
       "   Activity Calories  \n",
       "29             1,127  \n",
       "30               999  "
      ]
     },
     "execution_count": 6,
     "metadata": {},
     "output_type": "execute_result"
    }
   ],
   "source": [
    "infile = '2018-04-26_through_2018-05-26.csv'\n",
    "\n",
    "df = pd.read_csv(infile, skiprows = 35, nrows=31)\n",
    "df.tail(2)"
   ]
  },
  {
   "cell_type": "code",
   "execution_count": 7,
   "metadata": {},
   "outputs": [
    {
     "data": {
      "text/html": [
       "<div>\n",
       "<style scoped>\n",
       "    .dataframe tbody tr th:only-of-type {\n",
       "        vertical-align: middle;\n",
       "    }\n",
       "\n",
       "    .dataframe tbody tr th {\n",
       "        vertical-align: top;\n",
       "    }\n",
       "\n",
       "    .dataframe thead th {\n",
       "        text-align: right;\n",
       "    }\n",
       "</style>\n",
       "<table border=\"1\" class=\"dataframe\">\n",
       "  <thead>\n",
       "    <tr style=\"text-align: right;\">\n",
       "      <th></th>\n",
       "      <th>Date</th>\n",
       "      <th>Calories Burned</th>\n",
       "      <th>Steps</th>\n",
       "      <th>Distance</th>\n",
       "      <th>Floors</th>\n",
       "      <th>Minutes Sedentary</th>\n",
       "      <th>Minutes Lightly Active</th>\n",
       "      <th>Minutes Fairly Active</th>\n",
       "      <th>Minutes Very Active</th>\n",
       "      <th>Activity Calories</th>\n",
       "    </tr>\n",
       "  </thead>\n",
       "  <tbody>\n",
       "    <tr>\n",
       "      <th>29</th>\n",
       "      <td>2018-06-25</td>\n",
       "      <td>3,127</td>\n",
       "      <td>3,810</td>\n",
       "      <td>1.8</td>\n",
       "      <td>1</td>\n",
       "      <td>768</td>\n",
       "      <td>183</td>\n",
       "      <td>8</td>\n",
       "      <td>0</td>\n",
       "      <td>1,032</td>\n",
       "    </tr>\n",
       "    <tr>\n",
       "      <th>30</th>\n",
       "      <td>2018-06-26</td>\n",
       "      <td>2,144</td>\n",
       "      <td>0</td>\n",
       "      <td>0.0</td>\n",
       "      <td>0</td>\n",
       "      <td>1,440</td>\n",
       "      <td>0</td>\n",
       "      <td>0</td>\n",
       "      <td>0</td>\n",
       "      <td>0</td>\n",
       "    </tr>\n",
       "  </tbody>\n",
       "</table>\n",
       "</div>"
      ],
      "text/plain": [
       "          Date Calories Burned  Steps  Distance  Floors Minutes Sedentary  \\\n",
       "29  2018-06-25           3,127  3,810       1.8       1               768   \n",
       "30  2018-06-26           2,144      0       0.0       0             1,440   \n",
       "\n",
       "    Minutes Lightly Active  Minutes Fairly Active  Minutes Very Active  \\\n",
       "29                     183                      8                    0   \n",
       "30                       0                      0                    0   \n",
       "\n",
       "   Activity Calories  \n",
       "29             1,032  \n",
       "30                 0  "
      ]
     },
     "execution_count": 7,
     "metadata": {},
     "output_type": "execute_result"
    }
   ],
   "source": [
    "infile = '2018-05-27_through_2018-06-26.csv'\n",
    "\n",
    "df2 = pd.read_csv(infile, skiprows = 35, nrows=31)\n",
    "df2.tail(2)"
   ]
  },
  {
   "cell_type": "code",
   "execution_count": null,
   "metadata": {},
   "outputs": [],
   "source": [
    "# for i in range(3):\n",
    "#     locals()['x' + str(i)] = i\n",
    "# x2\n",
    "infiles = ['2018-05-27_through_2018-06-26.csv']\n",
    "dddd"
   ]
  },
  {
   "cell_type": "code",
   "execution_count": null,
   "metadata": {},
   "outputs": [],
   "source": [
    "# df['Date'] = pd.to_datetime(df['Date'])\n",
    "# df = df.set_index('Date')\n",
    "# df.index.name = ''\n",
    "# df.head(3)"
   ]
  },
  {
   "cell_type": "code",
   "execution_count": null,
   "metadata": {},
   "outputs": [],
   "source": []
  }
 ],
 "metadata": {
  "kernelspec": {
   "display_name": "Python 3",
   "language": "python",
   "name": "python3"
  },
  "language_info": {
   "codemirror_mode": {
    "name": "ipython",
    "version": 3
   },
   "file_extension": ".py",
   "mimetype": "text/x-python",
   "name": "python",
   "nbconvert_exporter": "python",
   "pygments_lexer": "ipython3",
   "version": "3.7.4"
  }
 },
 "nbformat": 4,
 "nbformat_minor": 2
}
